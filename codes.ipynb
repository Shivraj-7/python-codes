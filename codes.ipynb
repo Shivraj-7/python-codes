{
 "cells": [
  {
   "cell_type": "code",
   "execution_count": 1,
   "metadata": {},
   "outputs": [
    {
     "name": "stdout",
     "output_type": "stream",
     "text": [
      "function=8\n"
     ]
    }
   ],
   "source": [
    "#finding max length\n",
    "ball =\"Write a Python function that takes a list of words and return the longest word and the length of the longest one\"\n",
    "ball_list=ball.split()\n",
    "word_long = \"\"\n",
    "max_len = 0\n",
    "for word in ball_list:\n",
    "    temp = len(word)\n",
    "    if max_len < temp:\n",
    "        max_len = temp\n",
    "        word_long = word\n",
    "\n",
    "print(f'{word_long}={max_len}')"
   ]
  },
  {
   "cell_type": "code",
   "execution_count": 2,
   "metadata": {},
   "outputs": [
    {
     "name": "stdout",
     "output_type": "stream",
     "text": [
      "Romeo:5\n"
     ]
    }
   ],
   "source": [
    "f1 =\"Red Bull, Mercedes, Alpine, Sauber, Mclaren, Hass, Alfa Romeo\"\n",
    "f1 = f1.split()\n",
    "word_index = \"\"\n",
    "word_len = 0\n",
    "for word in f1:\n",
    "    Data = len(word)\n",
    "    if Data > word_len:\n",
    "        word_len = Data\n",
    "        word_index = word\n",
    "print(f'{word}:{Data}')"
   ]
  },
  {
   "cell_type": "code",
   "execution_count": 3,
   "metadata": {},
   "outputs": [
    {
     "name": "stdout",
     "output_type": "stream",
     "text": [
      "r:3\n",
      "d:3\n",
      "j:1\n",
      "y:1\n",
      "m:2\n",
      "h:1\n",
      "g:1\n"
     ]
    }
   ],
   "source": [
    "#counting characters\n",
    "name = input(\"Enter the name\")\n",
    "temp_var =\"\"\n",
    "i = 0\n",
    "while i < len(name):\n",
    "    if name[i] not in temp_var:\n",
    "        temp_var += name[i]\n",
    "        print(f\"{name[i]}:{name.count(name[i])}\")\n",
    "    i += 1"
   ]
  },
  {
   "cell_type": "code",
   "execution_count": 4,
   "metadata": {},
   "outputs": [
    {
     "name": "stdout",
     "output_type": "stream",
     "text": [
      "you win and the number is 1 times\n"
     ]
    }
   ],
   "source": [
    "#guessing Random numbers\n",
    "winnin_number = 77\n",
    "import random\n",
    "counter = 0\n",
    "\n",
    "game_over = False\n",
    "\n",
    "while not game_over:\n",
    "    number = int(input(\"Enter the number\"))\n",
    "    counter+=1\n",
    "    if number == winnin_number:\n",
    "        print(f'you win and the number is {counter} times')\n",
    "        game_over = True\n",
    "\n",
    "    else:\n",
    "        if number < winnin_number:\n",
    "            print(\"you guessed too low\")\n",
    "            \n",
    "        else:\n",
    "            print(\"you guessed too high\")"
   ]
  },
  {
   "cell_type": "code",
   "execution_count": 5,
   "metadata": {},
   "outputs": [
    {
     "name": "stdout",
     "output_type": "stream",
     "text": [
      "you guessed too low\n",
      "you guessed too high\n",
      "you guessed too low\n",
      "you guessed too low\n",
      "you guessed too low\n"
     ]
    },
    {
     "ename": "KeyboardInterrupt",
     "evalue": "Interrupted by user",
     "output_type": "error",
     "traceback": [
      "\u001b[0;31m---------------------------------------------------------------------------\u001b[0m",
      "\u001b[0;31mKeyboardInterrupt\u001b[0m                         Traceback (most recent call last)",
      "Cell \u001b[0;32mIn[5], line 17\u001b[0m\n\u001b[1;32m     15\u001b[0m \u001b[38;5;28;01melse\u001b[39;00m:\n\u001b[1;32m     16\u001b[0m      \u001b[38;5;28mprint\u001b[39m(\u001b[38;5;124m\"\u001b[39m\u001b[38;5;124myou guessed too high\u001b[39m\u001b[38;5;124m\"\u001b[39m)\n\u001b[0;32m---> 17\u001b[0m number \u001b[38;5;241m=\u001b[39m \u001b[38;5;28mint\u001b[39m(\u001b[38;5;28;43minput\u001b[39;49m\u001b[43m(\u001b[49m\u001b[38;5;124;43m\"\u001b[39;49m\u001b[38;5;124;43mguess again:\u001b[39;49m\u001b[38;5;124;43m\"\u001b[39;49m\u001b[43m)\u001b[49m)\n",
      "File \u001b[0;32m~/.local/lib/python3.12/site-packages/ipykernel/kernelbase.py:1282\u001b[0m, in \u001b[0;36mKernel.raw_input\u001b[0;34m(self, prompt)\u001b[0m\n\u001b[1;32m   1280\u001b[0m     msg \u001b[38;5;241m=\u001b[39m \u001b[38;5;124m\"\u001b[39m\u001b[38;5;124mraw_input was called, but this frontend does not support input requests.\u001b[39m\u001b[38;5;124m\"\u001b[39m\n\u001b[1;32m   1281\u001b[0m     \u001b[38;5;28;01mraise\u001b[39;00m StdinNotImplementedError(msg)\n\u001b[0;32m-> 1282\u001b[0m \u001b[38;5;28;01mreturn\u001b[39;00m \u001b[38;5;28;43mself\u001b[39;49m\u001b[38;5;241;43m.\u001b[39;49m\u001b[43m_input_request\u001b[49m\u001b[43m(\u001b[49m\n\u001b[1;32m   1283\u001b[0m \u001b[43m    \u001b[49m\u001b[38;5;28;43mstr\u001b[39;49m\u001b[43m(\u001b[49m\u001b[43mprompt\u001b[49m\u001b[43m)\u001b[49m\u001b[43m,\u001b[49m\n\u001b[1;32m   1284\u001b[0m \u001b[43m    \u001b[49m\u001b[38;5;28;43mself\u001b[39;49m\u001b[38;5;241;43m.\u001b[39;49m\u001b[43m_parent_ident\u001b[49m\u001b[43m[\u001b[49m\u001b[38;5;124;43m\"\u001b[39;49m\u001b[38;5;124;43mshell\u001b[39;49m\u001b[38;5;124;43m\"\u001b[39;49m\u001b[43m]\u001b[49m\u001b[43m,\u001b[49m\n\u001b[1;32m   1285\u001b[0m \u001b[43m    \u001b[49m\u001b[38;5;28;43mself\u001b[39;49m\u001b[38;5;241;43m.\u001b[39;49m\u001b[43mget_parent\u001b[49m\u001b[43m(\u001b[49m\u001b[38;5;124;43m\"\u001b[39;49m\u001b[38;5;124;43mshell\u001b[39;49m\u001b[38;5;124;43m\"\u001b[39;49m\u001b[43m)\u001b[49m\u001b[43m,\u001b[49m\n\u001b[1;32m   1286\u001b[0m \u001b[43m    \u001b[49m\u001b[43mpassword\u001b[49m\u001b[38;5;241;43m=\u001b[39;49m\u001b[38;5;28;43;01mFalse\u001b[39;49;00m\u001b[43m,\u001b[49m\n\u001b[1;32m   1287\u001b[0m \u001b[43m\u001b[49m\u001b[43m)\u001b[49m\n",
      "File \u001b[0;32m~/.local/lib/python3.12/site-packages/ipykernel/kernelbase.py:1325\u001b[0m, in \u001b[0;36mKernel._input_request\u001b[0;34m(self, prompt, ident, parent, password)\u001b[0m\n\u001b[1;32m   1322\u001b[0m \u001b[38;5;28;01mexcept\u001b[39;00m \u001b[38;5;167;01mKeyboardInterrupt\u001b[39;00m:\n\u001b[1;32m   1323\u001b[0m     \u001b[38;5;66;03m# re-raise KeyboardInterrupt, to truncate traceback\u001b[39;00m\n\u001b[1;32m   1324\u001b[0m     msg \u001b[38;5;241m=\u001b[39m \u001b[38;5;124m\"\u001b[39m\u001b[38;5;124mInterrupted by user\u001b[39m\u001b[38;5;124m\"\u001b[39m\n\u001b[0;32m-> 1325\u001b[0m     \u001b[38;5;28;01mraise\u001b[39;00m \u001b[38;5;167;01mKeyboardInterrupt\u001b[39;00m(msg) \u001b[38;5;28;01mfrom\u001b[39;00m \u001b[38;5;28;01mNone\u001b[39;00m\n\u001b[1;32m   1326\u001b[0m \u001b[38;5;28;01mexcept\u001b[39;00m \u001b[38;5;167;01mException\u001b[39;00m:\n\u001b[1;32m   1327\u001b[0m     \u001b[38;5;28mself\u001b[39m\u001b[38;5;241m.\u001b[39mlog\u001b[38;5;241m.\u001b[39mwarning(\u001b[38;5;124m\"\u001b[39m\u001b[38;5;124mInvalid Message:\u001b[39m\u001b[38;5;124m\"\u001b[39m, exc_info\u001b[38;5;241m=\u001b[39m\u001b[38;5;28;01mTrue\u001b[39;00m)\n",
      "\u001b[0;31mKeyboardInterrupt\u001b[0m: Interrupted by user"
     ]
    }
   ],
   "source": [
    "import random\n",
    "\n",
    "counter = 0\n",
    "game_over = True\n",
    "winnin_number = random.randint(1, 100)\n",
    "number = int(input(\"guess the correct number\"))\n",
    "while game_over:\n",
    "     counter+=1\n",
    "     if number== winnin_number:\n",
    "        print(f'you have guessed the correct number in {counter}times')\n",
    "        game_over= False\n",
    "     else:\n",
    "        if number<winnin_number:\n",
    "             print(\"you guessed too low\")\n",
    "        else:\n",
    "             print(\"you guessed too high\")\n",
    "        number = int(input(\"guess again:\"))"
   ]
  },
  {
   "cell_type": "code",
   "execution_count": 6,
   "metadata": {},
   "outputs": [
    {
     "name": "stdout",
     "output_type": "stream",
     "text": [
      "      *\n",
      "      *      *\n",
      "      *      *      *\n",
      "      *      *      *      *\n",
      "      *      *      *      *      *\n"
     ]
    }
   ],
   "source": [
    "#patterns\n",
    "n=5\n",
    "for i in range(n):\n",
    "    for j in range(i+1):\n",
    "        print(\"      *\",end=\"\")\n",
    "    print()"
   ]
  },
  {
   "cell_type": "code",
   "execution_count": 7,
   "metadata": {},
   "outputs": [
    {
     "name": "stdout",
     "output_type": "stream",
     "text": [
      "*\n",
      "**\n",
      "***\n",
      "****\n",
      "*****\n"
     ]
    }
   ],
   "source": [
    "n =5\n",
    "for i in range(n):\n",
    "    for j in range( i+1):\n",
    "        print(\"*\", end=\"\")\n",
    "    print()"
   ]
  },
  {
   "cell_type": "code",
   "execution_count": 8,
   "metadata": {},
   "outputs": [
    {
     "name": "stdout",
     "output_type": "stream",
     "text": [
      "1540\n"
     ]
    }
   ],
   "source": [
    "#sum of n numbers  without range\n",
    "num=int(input(\"Enter the number:\"))\n",
    "total=0\n",
    "counter = 1\n",
    "while counter<= num:\n",
    "    total+=counter\n",
    "    counter+=1\n",
    "\n",
    "    # total+= int(i)\n",
    "print(total)"
   ]
  },
  {
   "cell_type": "code",
   "execution_count": 9,
   "metadata": {},
   "outputs": [
    {
     "name": "stdout",
     "output_type": "stream",
     "text": [
      "-98\n",
      "-98\n",
      "-98\n",
      "-98\n",
      "-98\n"
     ]
    }
   ],
   "source": [
    "#create a function that takes number as an argument\n",
    "new_function=-99\n",
    "total =0\n",
    "for i in range(-5, 0):\n",
    "        total=new_function+1\n",
    "        print(total)"
   ]
  },
  {
   "cell_type": "code",
   "execution_count": 10,
   "metadata": {},
   "outputs": [
    {
     "name": "stdout",
     "output_type": "stream",
     "text": [
      "240\n"
     ]
    }
   ],
   "source": [
    "#converting min to sec\n",
    "min =int(input(\"enter minutes\"))\n",
    "sec= min*60\n",
    "print(sec)"
   ]
  },
  {
   "cell_type": "code",
   "execution_count": 11,
   "metadata": {},
   "outputs": [
    {
     "name": "stdout",
     "output_type": "stream",
     "text": [
      "2860.0\n"
     ]
    }
   ],
   "source": [
    "#area of triangle\n",
    "h = int(input(\"Enter the height\"))\n",
    "b = int(input(\"enter the base\"))\n",
    "def Area_of_triangle():\n",
    "    A =0.5*h*b\n",
    "    return A\n",
    "print(Area_of_triangle())"
   ]
  },
  {
   "cell_type": "code",
   "execution_count": 12,
   "metadata": {},
   "outputs": [
    {
     "name": "stdout",
     "output_type": "stream",
     "text": [
      "a= 6\n",
      "b= 9\n",
      "a= 6\n",
      "b= 9\n"
     ]
    }
   ],
   "source": [
    "#wap that swa numbers\n",
    "a=6\n",
    "b=9\n",
    "print('a=',a)\n",
    "print('b=',b)\n",
    "\n",
    "#use 2 operators + &- to give out the values\n",
    "\n",
    "\n",
    "\n",
    "print('a=',a)\n",
    "print('b=',b)"
   ]
  },
  {
   "cell_type": "code",
   "execution_count": null,
   "metadata": {},
   "outputs": [],
   "source": []
  }
 ],
 "metadata": {
  "kernelspec": {
   "display_name": "Python 3",
   "language": "python",
   "name": "python3"
  },
  "language_info": {
   "codemirror_mode": {
    "name": "ipython",
    "version": 3
   },
   "file_extension": ".py",
   "mimetype": "text/x-python",
   "name": "python",
   "nbconvert_exporter": "python",
   "pygments_lexer": "ipython3",
   "version": "3.12.1"
  }
 },
 "nbformat": 4,
 "nbformat_minor": 2
}

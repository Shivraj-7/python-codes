{
 "cells": [
  {
   "cell_type": "code",
   "execution_count": null,
   "metadata": {},
   "outputs": [
    {
     "data": {
      "text/plain": [
       "hcaeb eht no rethgirb enihs srats\n"
      ]
     },
     "metadata": {},
     "output_type": "display_data"
    }
   ],
   "source": [
    "#string reverse\n",
    "stem1 = \"stars shine brighter on the beach\"\n",
    "print(stem1[::-1])"
   ]
  },
  {
   "cell_type": "code",
   "execution_count": null,
   "metadata": {},
   "outputs": [
    {
     "data": {
      "text/plain": [
       "KOENIGSEGG\n"
      ]
     },
     "metadata": {},
     "output_type": "display_data"
    }
   ],
   "source": [
    "#capital letters method\n",
    "A=\"koenigsegg\"\n",
    "A=A.upper()\n",
    "print(A)"
   ]
  },
  {
   "cell_type": "code",
   "execution_count": null,
   "metadata": {},
   "outputs": [
    {
     "data": {
      "text/plain": [
       "T : 1\n",
       "h : 1\n",
       "i : 2\n",
       "s : 2\n",
       "  : 2\n",
       "i : 2\n",
       "s : 2\n",
       "  : 2\n",
       "w : 1\n",
       "a : 1\n",
       "r : 1\n"
      ]
     },
     "metadata": {},
     "output_type": "display_data"
    }
   ],
   "source": [
    "#counting string\n",
    "A = \"This is war\"\n",
    "for i in A:\n",
    "    A.count(i)\n",
    "    print(f'{i} : {A.count(i)}')"
   ]
  },
  {
   "cell_type": "code",
   "execution_count": null,
   "metadata": {},
   "outputs": [
    {
     "data": {
      "text/plain": [
       "2\n"
      ]
     },
     "metadata": {},
     "output_type": "display_data"
    }
   ],
   "source": [
    "#count function\n",
    "str1 = \"bazooka\"\n",
    "count1 =str1.count('a')\n",
    "print(count1)"
   ]
  },
  {
   "cell_type": "code",
   "execution_count": null,
   "metadata": {},
   "outputs": [
    {
     "data": {
      "text/plain": [
       "z:3\n"
      ]
     },
     "metadata": {},
     "output_type": "display_data"
    }
   ],
   "source": [
    "#without using count function\n",
    "\n",
    "str1 = \"ekifpjarlfzbfbhvfzbhfasdnorsdjzxkdfciskm\"\n",
    "x =input(\"enter the variablr for variable count\")\n",
    "counter = 0\n",
    "# print(len(str1))\n",
    "for i in str1:\n",
    "    if i==x:\n",
    "        counter+=1\n",
    "print(f'{x}:{counter}')"
   ]
  },
  {
   "cell_type": "code",
   "execution_count": null,
   "metadata": {},
   "outputs": [],
   "source": []
  }
 ],
 "metadata": {
  "language_info": {
   "name": "python"
  }
 },
 "nbformat": 4,
 "nbformat_minor": 2
}
